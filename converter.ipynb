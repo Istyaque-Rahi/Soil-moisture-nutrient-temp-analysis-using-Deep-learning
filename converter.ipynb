{
 "cells": [
  {
   "cell_type": "code",
   "execution_count": null,
   "metadata": {},
   "outputs": [],
   "source": [
    "import os\n",
    "from PIL import Image\n",
    "\n",
    "def convert_tif_to_jpg(input_folder, output_folder):\n",
    "    # Ensure the output folder exists\n",
    "    if not os.path.exists(output_folder):\n",
    "        os.makedirs(output_folder)\n",
    "\n",
    "    # List all .TIF files in the input folder\n",
    "    tif_files = [f for f in os.listdir(input_folder) if f.lower().endswith('.tif')]\n",
    "\n",
    "    if not tif_files:\n",
    "        print(\"No .TIF files found in the input folder.\")\n",
    "        return\n",
    "\n",
    "    # Loop through and convert each .TIF file\n",
    "    for tif_file in tif_files:\n",
    "        tif_path = os.path.join(input_folder, tif_file)\n",
    "        jpg_filename = os.path.splitext(tif_file)[0] + '.jpg'  # Replace extension\n",
    "        jpg_path = os.path.join(output_folder, jpg_filename)\n",
    "\n",
    "        try:\n",
    "            # Open the .TIF image and convert to RGB\n",
    "            with Image.open(tif_path) as img:\n",
    "                rgb_img = img.convert('RGB')  # Ensure RGB format for .JPG\n",
    "                rgb_img.save(jpg_path, 'JPEG')  # Save as .JPG\n",
    "                print(f\"Converted: {tif_file} -> {jpg_filename}\")\n",
    "        except Exception as e:\n",
    "            print(f\"Error converting {tif_file}: {e}\")\n",
    "\n",
    "# Input and Output folder paths\n",
    "input_folder = r\"C:\\Users\\alisa\\OneDrive\\Desktop\\Soil_moisture\\Soil-moisture-nutrient-temp-analysis-using-Deep-learning\\Images\"\n",
    "output_folder = r\"C:\\Users\\alisa\\OneDrive\\Desktop\\Soil_moisture\\Converted_Images\"\n",
    "\n",
    "# Convert all .TIF images in the input folder to .JPG in the output folder\n",
    "convert_tif_to_jpg(input_folder, output_folder)\n"
   ]
  }
 ],
 "metadata": {
  "kernelspec": {
   "display_name": "Python 3",
   "language": "python",
   "name": "python3"
  },
  "language_info": {
   "name": "python",
   "version": "3.12.1"
  }
 },
 "nbformat": 4,
 "nbformat_minor": 2
}
