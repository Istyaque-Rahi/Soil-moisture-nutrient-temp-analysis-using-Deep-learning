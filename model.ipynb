{
 "cells": [
  {
   "cell_type": "code",
   "execution_count": 2,
   "metadata": {},
   "outputs": [
    {
     "name": "stderr",
     "output_type": "stream",
     "text": [
      "Matplotlib is building the font cache; this may take a moment.\n"
     ]
    }
   ],
   "source": [
    "import os\n",
    "from PIL import Image\n",
    "from matplotlib import pyplot as plt"
   ]
  },
  {
   "cell_type": "code",
   "execution_count": 3,
   "metadata": {},
   "outputs": [],
   "source": [
    "root ='Images'\n",
    "\n",
    "fnames= os.listdir(root)"
   ]
  },
  {
   "cell_type": "code",
   "execution_count": 4,
   "metadata": {},
   "outputs": [
    {
     "data": {
      "text/plain": [
       "245"
      ]
     },
     "execution_count": 4,
     "metadata": {},
     "output_type": "execute_result"
    }
   ],
   "source": [
    "len(fnames)"
   ]
  },
  {
   "cell_type": "code",
   "execution_count": 5,
   "metadata": {},
   "outputs": [
    {
     "name": "stdout",
     "output_type": "stream",
     "text": [
      "Images\\EO1H0260472017071110PF_B001_L1GST.TIF\n",
      "Images\\EO1H0260472017071110PF_B002_L1GST.TIF\n",
      "Images\\EO1H0260472017071110PF_B003_L1GST.TIF\n",
      "Images\\EO1H0260472017071110PF_B004_L1GST.TIF\n",
      "Images\\EO1H0260472017071110PF_B005_L1GST.TIF\n",
      "Images\\EO1H0260472017071110PF_B006_L1GST.TIF\n",
      "Images\\EO1H0260472017071110PF_B007_L1GST.TIF\n",
      "Images\\EO1H0260472017071110PF_B008_L1GST.TIF\n",
      "Images\\EO1H0260472017071110PF_B009_L1GST.TIF\n",
      "Images\\EO1H0260472017071110PF_B010_L1GST.TIF\n"
     ]
    },
    {
     "data": {
      "image/png": "[encoded data removed]",
      "text/plain": [
       "<Figure size 1500x600 with 10 Axes>"
      ]
     },
     "metadata": {},
     "output_type": "display_data"
    }
   ],
   "source": [
    "fig, axs = plt.subplots(nrows=2, ncols=5, figsize=(15, 6))  # Define the figure and axes\n",
    "\n",
    "for i in range(10):\n",
    "    filepath = os.path.join(root, fnames[i])  # Generate the file path\n",
    "    print(filepath)  # Print the file path for debugging (optional)\n",
    "    \n",
    "    try:\n",
    "        img = Image.open(filepath)  \n",
    "        ax = axs[i // 5, i % 5]  \n",
    "        ax.imshow(img) \n",
    "        ax.axis('off')  \n",
    "        ax.set_title(f\"Image {i+1}\")  \n",
    "    except Exception as e:\n",
    "        print(f\"Error opening {filepath}: {e}\")\n",
    "\n",
    "plt.tight_layout()  \n",
    "plt.show()\n"
   ]
  },
  {
   "cell_type": "code",
   "execution_count": 13,
   "metadata": {},
   "outputs": [
    {
     "name": "stdout",
     "output_type": "stream",
     "text": [
      "File found: C:\\Users\\toist\\OneDrive\\Desktop\\Maojor_project\\Images\n"
     ]
    }
   ],
   "source": [
    "import os\n",
    "file_path = r'C:\\Users\\toist\\OneDrive\\Desktop\\Maojor_project\\Images'\n",
    "if not os.path.exists(file_path):\n",
    "    print(\"File not found:\", file_path)\n",
    "else:\n",
    "    print(\"File found:\", file_path)\n"
   ]
  },
  {
   "cell_type": "code",
   "execution_count": 16,
   "metadata": {},
   "outputs": [
    {
     "ename": "FileNotFoundError",
     "evalue": "Unable to locate file \"C:\\Users\\toist\\OneDrive\\Desktop\\Maojor_project\\Images\\example_file.hdr\". If the file exists, use its full path or place its directory in the SPECTRAL_DATA environment variable.",
     "output_type": "error",
     "traceback": [
      "\u001b[1;31m---------------------------------------------------------------------------\u001b[0m",
      "\u001b[1;31mFileNotFoundError\u001b[0m                         Traceback (most recent call last)",
      "Cell \u001b[1;32mIn[16], line 6\u001b[0m\n\u001b[0;32m      3\u001b[0m \u001b[38;5;28;01mfrom\u001b[39;00m \u001b[38;5;21;01mspectral\u001b[39;00m \u001b[38;5;28;01mimport\u001b[39;00m open_image  \n\u001b[0;32m      5\u001b[0m \u001b[38;5;66;03m# Provide the full file path\u001b[39;00m\n\u001b[1;32m----> 6\u001b[0m image \u001b[38;5;241m=\u001b[39m \u001b[43mopen_image\u001b[49m\u001b[43m(\u001b[49m\u001b[38;5;124;43mr\u001b[39;49m\u001b[38;5;124;43m\"\u001b[39;49m\u001b[38;5;124;43mC:\u001b[39;49m\u001b[38;5;124;43m\\\u001b[39;49m\u001b[38;5;124;43mUsers\u001b[39;49m\u001b[38;5;124;43m\\\u001b[39;49m\u001b[38;5;124;43mtoist\u001b[39;49m\u001b[38;5;124;43m\\\u001b[39;49m\u001b[38;5;124;43mOneDrive\u001b[39;49m\u001b[38;5;124;43m\\\u001b[39;49m\u001b[38;5;124;43mDesktop\u001b[39;49m\u001b[38;5;124;43m\\\u001b[39;49m\u001b[38;5;124;43mMaojor_project\u001b[39;49m\u001b[38;5;124;43m\\\u001b[39;49m\u001b[38;5;124;43mImages\u001b[39;49m\u001b[38;5;124;43m\\\u001b[39;49m\u001b[38;5;124;43mexample_file.hdr\u001b[39;49m\u001b[38;5;124;43m\"\u001b[39;49m\u001b[43m)\u001b[49m  \u001b[38;5;66;03m# Replace with actual path\u001b[39;00m\n\u001b[0;32m      7\u001b[0m data \u001b[38;5;241m=\u001b[39m image\u001b[38;5;241m.\u001b[39mload()  \n\u001b[0;32m      8\u001b[0m \u001b[38;5;28mprint\u001b[39m(\u001b[38;5;124mf\u001b[39m\u001b[38;5;124m\"\u001b[39m\u001b[38;5;124mData shape: \u001b[39m\u001b[38;5;132;01m{\u001b[39;00mdata\u001b[38;5;241m.\u001b[39mshape\u001b[38;5;132;01m}\u001b[39;00m\u001b[38;5;124m\"\u001b[39m)  \n",
      "File \u001b[1;32m~\\AppData\\Roaming\\Python\\Python312\\site-packages\\spectral\\spectral.py:96\u001b[0m, in \u001b[0;36mopen_image\u001b[1;34m(file)\u001b[0m\n\u001b[0;32m     73\u001b[0m \u001b[38;5;250m\u001b[39m\u001b[38;5;124;03m'''\u001b[39;00m\n\u001b[0;32m     74\u001b[0m \u001b[38;5;124;03mLocates & opens the specified hyperspectral image.\u001b[39;00m\n\u001b[0;32m     75\u001b[0m \n\u001b[1;32m   (...)\u001b[0m\n\u001b[0;32m     93\u001b[0m \u001b[38;5;124;03mfile, the `file` argument should be the name of the header file.\u001b[39;00m\n\u001b[0;32m     94\u001b[0m \u001b[38;5;124;03m'''\u001b[39;00m\n\u001b[0;32m     95\u001b[0m \u001b[38;5;28;01mfrom\u001b[39;00m \u001b[38;5;21;01m.\u001b[39;00m \u001b[38;5;28;01mimport\u001b[39;00m io\n\u001b[1;32m---> 96\u001b[0m pathname \u001b[38;5;241m=\u001b[39m \u001b[43mio\u001b[49m\u001b[38;5;241;43m.\u001b[39;49m\u001b[43mspyfile\u001b[49m\u001b[38;5;241;43m.\u001b[39;49m\u001b[43mfind_file_path\u001b[49m\u001b[43m(\u001b[49m\u001b[43mfile\u001b[49m\u001b[43m)\u001b[49m\n\u001b[0;32m     98\u001b[0m \u001b[38;5;66;03m# Try to open it as an ENVI header file.\u001b[39;00m\n\u001b[0;32m     99\u001b[0m \u001b[38;5;28;01mtry\u001b[39;00m:\n",
      "File \u001b[1;32m~\\AppData\\Roaming\\Python\\Python312\\site-packages\\spectral\\io\\spyfile.py:120\u001b[0m, in \u001b[0;36mfind_file_path\u001b[1;34m(filename)\u001b[0m\n\u001b[0;32m    116\u001b[0m \u001b[38;5;28;01mif\u001b[39;00m \u001b[38;5;129;01mnot\u001b[39;00m pathname:\n\u001b[0;32m    117\u001b[0m     msg \u001b[38;5;241m=\u001b[39m \u001b[38;5;124m'\u001b[39m\u001b[38;5;124mUnable to locate file \u001b[39m\u001b[38;5;124m\"\u001b[39m\u001b[38;5;132;01m%s\u001b[39;00m\u001b[38;5;124m\"\u001b[39m\u001b[38;5;124m. If the file exists, \u001b[39m\u001b[38;5;124m'\u001b[39m \\\n\u001b[0;32m    118\u001b[0m       \u001b[38;5;124m'\u001b[39m\u001b[38;5;124muse its full path or place its directory in the \u001b[39m\u001b[38;5;124m'\u001b[39m \\\n\u001b[0;32m    119\u001b[0m       \u001b[38;5;124m'\u001b[39m\u001b[38;5;124mSPECTRAL_DATA environment variable.\u001b[39m\u001b[38;5;124m'\u001b[39m  \u001b[38;5;241m%\u001b[39m filename\n\u001b[1;32m--> 120\u001b[0m     \u001b[38;5;28;01mraise\u001b[39;00m \u001b[38;5;167;01mFileNotFoundError\u001b[39;00m(msg)\n\u001b[0;32m    121\u001b[0m \u001b[38;5;28;01mreturn\u001b[39;00m pathname\n",
      "\u001b[1;31mFileNotFoundError\u001b[0m: Unable to locate file \"C:\\Users\\toist\\OneDrive\\Desktop\\Maojor_project\\Images\\example_file.hdr\". If the file exists, use its full path or place its directory in the SPECTRAL_DATA environment variable."
     ]
    }
   ],
   "source": [
    "import numpy as np\n",
    "import matplotlib.pyplot as plt\n",
    "import rasterio\n",
    "\n",
    "# Provide the full file path\n",
    "file_path = r\"C:\\Users\\toist\\OneDrive\\Desktop\\Maojor_project\\Images\\example_file.TIF\"  # Replace with actual path\n",
    "\n",
    "# Step 1: Open the .TIF file\n",
    "with rasterio.open(file_path) as src:\n",
    "    data = src.read()  # Read all bands into a 3D numpy array\n",
    "    print(f\"Data shape: {data.shape}\")  # Shape: (bands, height, width)\n",
    "\n",
    "# Transpose the data to match (height, width, bands) format for visualization\n",
    "data = np.transpose(data, (1, 2, 0))\n",
    "\n",
    "# Step 2: Visualize RGB Composite (Bands 30, 20, 10 as an example)\n",
    "rgb_bands = [30, 20, 10]  # Choose 3 bands for visualization\n",
    "rgb_image = data[:, :, rgb_bands]\n",
    "rgb_image = (rgb_image / np.max(rgb_image))  # Normalize for display\n",
    "\n",
    "plt.figure(figsize=(8, 6))\n",
    "plt.imshow(rgb_image)\n",
    "plt.title(\"RGB Composite of Hyperspectral Data\")\n",
    "plt.axis(\"off\")\n",
    "plt.show()\n",
    "\n",
    "# Step 3: Visualize Individual Bands\n",
    "plt.figure(figsize=(12, 8))\n",
    "for i in range(1, 6):  # Visualize first 5 bands\n",
    "    plt.subplot(1, 5, i)\n",
    "    plt.imshow(data[:, :, i - 1], cmap='gray')  # Subtract 1 for zero-based indexing\n",
    "    plt.title(f\"Band {i}\")\n",
    "    plt.axis(\"off\")\n",
    "plt.tight_layout()\n",
    "plt.show()\n",
    "\n",
    "# Step 4: Spectral Profile of a Single Pixel\n",
    "pixel_location = (50, 50)  # Example pixel\n",
    "spectral_profile = data[pixel_location[0], pixel_location[1], :]\n",
    "\n",
    "plt.figure(figsize=(10, 5))\n",
    "plt.plot(spectral_profile)\n",
    "plt.title(\"Spectral Profile of Pixel (50, 50)\")\n",
    "plt.xlabel(\"Bands\")\n",
    "plt.ylabel(\"Reflectance\")\n",
    "plt.grid(True)\n",
    "plt.show()\n"
   ]
  },
  {
   "cell_type": "code",
   "execution_count": null,
   "metadata": {},
   "outputs": [],
   "source": []
  }
 ],
 "metadata": {
  "kernelspec": {
   "display_name": "Python 3",
   "language": "python",
   "name": "python3"
  },
  "language_info": {
   "codemirror_mode": {
    "name": "ipython",
    "version": 3
   },
   "file_extension": ".py",
   "mimetype": "text/x-python",
   "name": "python",
   "nbconvert_exporter": "python",
   "pygments_lexer": "ipython3",
   "version": "3.12.3"
  }
 },
 "nbformat": 4,
 "nbformat_minor": 2
}
